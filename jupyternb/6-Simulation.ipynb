{
 "cells": [
  {
   "cell_type": "markdown",
   "id": "64d0374d-1d42-408f-8791-7c02c66c5b9a",
   "metadata": {},
   "source": [
    "# Visualization and Simulation Environments\n",
    "\n",
    "## Bullet Real-Time Physics Simulation\n",
    "\n",
    "<a href=\"https://pybullet.org/wordpress/\" target=\"_blank\">PyBullet</a>\n",
    "\n",
    "## Open Dynamics Engine\n",
    "\n",
    "<a href=\"https://www.ode.org\" target=\"_blank\">ODE</a>\n",
    "\n",
    "## Dynamic Animation and Robotics Toolkit\n",
    "\n",
    "<a href=\"https://dartsim.github.io\" target=\"_blank\">DART</a>\n",
    "\n",
    "## Open Robot Control Software\n",
    "\n",
    "<a href=\"https://www.orocos.org/\" target=\"_blank\">OROCOS</a>\n",
    "\n",
    "## Gazebo\n",
    "\n",
    "<a href=\"https://gazebosim.org/home\" target=\"_blank\">Gazebo</a>\n",
    "\n",
    "## Todo\n",
    "\n",
    "This section needs more work"
   ]
  }
 ],
 "metadata": {
  "kernelspec": {
   "display_name": "Python 3 (ipykernel)",
   "language": "python",
   "name": "python3"
  },
  "language_info": {
   "codemirror_mode": {
    "name": "ipython",
    "version": 3
   },
   "file_extension": ".py",
   "mimetype": "text/x-python",
   "name": "python",
   "nbconvert_exporter": "python",
   "pygments_lexer": "ipython3",
   "version": "3.9.10"
  }
 },
 "nbformat": 4,
 "nbformat_minor": 5
}
