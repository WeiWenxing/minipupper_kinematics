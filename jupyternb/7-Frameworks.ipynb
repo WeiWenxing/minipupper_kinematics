{
 "cells": [
  {
   "cell_type": "markdown",
   "id": "f1be8092-77b8-4e70-984a-86a20022a151",
   "metadata": {},
   "source": [
    "# Software frameworks for the development of robotic systems\n",
    "\n",
    "Frameworks exist to ease the construction of complex robot systems by offering reusable building blocks that can be easily integrated. "
   ]
  },
  {
   "cell_type": "markdown",
   "id": "94c733d8-8e89-4dcd-b4cf-7ab336c12064",
   "metadata": {},
   "source": [
    "## Rocks\n",
    "\n",
    "https://www.rock-robotics.org An example of an early(?) framework"
   ]
  },
  {
   "cell_type": "markdown",
   "id": "ed7812db-974e-4b31-b19c-d579574e2ebf",
   "metadata": {},
   "source": [
    "## ROS - Robot Operating System\n",
    "\n",
    "https://www.ros.org Ros is widely used and comes in 2 versions, ROS1 and ROS2. Although the design principles do not differ too much between the two versions ROS1 is EOF (end of life) and replaced by ROS2. There are still many packages that are ROS1 only but as I am new to ROS in general I will focus on ROS2.\n",
    "\n",
    "### Todo\n",
    "\n",
    "More details on ROS and some simple examples for ROS2 like https://github.com/gnaur/simbot"
   ]
  }
 ],
 "metadata": {
  "kernelspec": {
   "display_name": "Python 3 (ipykernel)",
   "language": "python",
   "name": "python3"
  },
  "language_info": {
   "codemirror_mode": {
    "name": "ipython",
    "version": 3
   },
   "file_extension": ".py",
   "mimetype": "text/x-python",
   "name": "python",
   "nbconvert_exporter": "python",
   "pygments_lexer": "ipython3",
   "version": "3.9.10"
  }
 },
 "nbformat": 4,
 "nbformat_minor": 5
}
